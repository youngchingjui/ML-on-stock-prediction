{
 "cells": [
  {
   "cell_type": "markdown",
   "metadata": {},
   "source": [
    "# Recurrent Neural Networks on Stock Prediction v2"
   ]
  },
  {
   "cell_type": "markdown",
   "metadata": {},
   "source": [
    "Thesis: NN can better identify patterns within the stock market, because they are able to analyse data at dimensions higher than 3 very easily. People are only able to perceive up to 3 dimensions, which limits our ability to identify patterns within a multi-dimensional data set\n",
    "\n",
    "Practice: Build a RNN for a single stock. See if it can identify whether a stock will rise by 1% within 5 days."
   ]
  },
  {
   "cell_type": "markdown",
   "metadata": {},
   "source": [
    "Steps:\n",
    "- Clean data set to include OHLC on a per day basis\n",
    "- Create flag for each day if stock hits target within 5 days\n",
    "- Build RNN for single stock\n",
    "- Consider LSTM - if needed\n",
    "- Expand to include multiple stocks (start with 10)\n",
    "    - Check if other stock characteristics are important (industry, business model, volatility, etc.)\n",
    "- Expand to include multiple day windows (3 days, 10 days, 1 day, etc.) See if predictions are more accurate for these multiple windows\n",
    "- Expand to include multiple buffers (2%, 5%, 10%, etc.). \n",
    "    - Note: Of course a 10% rise in 5 days is very unlikely, but perhaps the model is able to predict these flags with higher precision?"
   ]
  },
  {
   "cell_type": "code",
   "execution_count": 1,
   "metadata": {},
   "outputs": [
    {
     "name": "stderr",
     "output_type": "stream",
     "text": [
      "/anaconda3/lib/python3.6/site-packages/h5py/__init__.py:36: FutureWarning: Conversion of the second argument of issubdtype from `float` to `np.floating` is deprecated. In future, it will be treated as `np.float64 == np.dtype(float).type`.\n",
      "  from ._conv import register_converters as _register_converters\n",
      "Using TensorFlow backend.\n"
     ]
    }
   ],
   "source": [
    "# Import the required packages\n",
    "\n",
    "# This is my personal functions list\n",
    "import stock_trading_functions as fn\n",
    "\n",
    "import numpy as np\n",
    "from numpy import array, argmax\n",
    "\n",
    "import pandas as pd\n",
    "from pandas import DataFrame, read_csv\n",
    "from pandas_datareader import data, wb\n",
    "\n",
    "import matplotlib.pyplot as plt\n",
    "\n",
    "from datetime import datetime\n",
    "\n",
    "from keras.models import Model, load_model, Sequential\n",
    "from keras.layers import Dense, Activation, Dropout, Input, Masking, LSTM, TimeDistributed, Flatten\n",
    "from keras.utils import to_categorical, plot_model\n",
    "\n",
    "from sklearn.preprocessing import LabelEncoder, OneHotEncoder\n",
    "\n",
    "import graphviz\n",
    "import pydot\n",
    "import time"
   ]
  },
  {
   "cell_type": "markdown",
   "metadata": {},
   "source": [
    "The model:\n",
    "\n",
    "I'm going to build a Long-Short Term Memory Neural Network.\n",
    "\n",
    "The data:\n",
    "Each data sample will represent `p` days previous of trading information (OHLC) for a particular stock. The model will predict whether the stock will be able to go up `target`% within `window` number days.\n",
    "\n",
    "For now, we'll set the following hyperparameters:"
   ]
  },
  {
   "cell_type": "code",
   "execution_count": 2,
   "metadata": {},
   "outputs": [],
   "source": [
    "# Set our hyperparameter variables\n",
    "\n",
    "# For now we'll just pick one stock. Later, I'll want to add a list of multiple stocks\n",
    "tickers = [\"XOM\"] # Sample stock to play with\n",
    "target = .01     # Target to identify if stock increased by 1%\n",
    "window = 5       # Window to identify whether stock hit target within these number of days\n",
    "p = 90           # number of days of data for each data point"
   ]
  },
  {
   "cell_type": "code",
   "execution_count": 3,
   "metadata": {},
   "outputs": [],
   "source": [
    "# Load the OHLC data into the variable data\n",
    "\n",
    "data_source = 'morningstar'\n",
    "start_date = datetime(2010, 1, 1)\n",
    "end_date = datetime(2018, 3, 30)\n",
    "\n",
    "data = data.DataReader(tickers, data_source, start_date, end_date)\n",
    "column_labels = data.columns"
   ]
  },
  {
   "cell_type": "code",
   "execution_count": 4,
   "metadata": {
    "scrolled": true
   },
   "outputs": [
    {
     "data": {
      "text/html": [
       "<div>\n",
       "<style scoped>\n",
       "    .dataframe tbody tr th:only-of-type {\n",
       "        vertical-align: middle;\n",
       "    }\n",
       "\n",
       "    .dataframe tbody tr th {\n",
       "        vertical-align: top;\n",
       "    }\n",
       "\n",
       "    .dataframe thead th {\n",
       "        text-align: right;\n",
       "    }\n",
       "</style>\n",
       "<table border=\"1\" class=\"dataframe\">\n",
       "  <thead>\n",
       "    <tr style=\"text-align: right;\">\n",
       "      <th></th>\n",
       "      <th>Close</th>\n",
       "      <th>High</th>\n",
       "      <th>Low</th>\n",
       "      <th>Open</th>\n",
       "      <th>Volume</th>\n",
       "    </tr>\n",
       "  </thead>\n",
       "  <tbody>\n",
       "    <tr>\n",
       "      <th>count</th>\n",
       "      <td>2151.000000</td>\n",
       "      <td>2151.000000</td>\n",
       "      <td>2151.000000</td>\n",
       "      <td>2151.000000</td>\n",
       "      <td>2.151000e+03</td>\n",
       "    </tr>\n",
       "    <tr>\n",
       "      <th>mean</th>\n",
       "      <td>83.652650</td>\n",
       "      <td>84.193785</td>\n",
       "      <td>83.043640</td>\n",
       "      <td>83.626437</td>\n",
       "      <td>1.509283e+07</td>\n",
       "    </tr>\n",
       "    <tr>\n",
       "      <th>std</th>\n",
       "      <td>9.586854</td>\n",
       "      <td>9.571258</td>\n",
       "      <td>9.595647</td>\n",
       "      <td>9.579110</td>\n",
       "      <td>8.423556e+06</td>\n",
       "    </tr>\n",
       "    <tr>\n",
       "      <th>min</th>\n",
       "      <td>56.570000</td>\n",
       "      <td>56.990000</td>\n",
       "      <td>55.940000</td>\n",
       "      <td>56.850000</td>\n",
       "      <td>0.000000e+00</td>\n",
       "    </tr>\n",
       "    <tr>\n",
       "      <th>25%</th>\n",
       "      <td>79.600000</td>\n",
       "      <td>80.165000</td>\n",
       "      <td>78.820000</td>\n",
       "      <td>79.640000</td>\n",
       "      <td>9.972062e+06</td>\n",
       "    </tr>\n",
       "    <tr>\n",
       "      <th>50%</th>\n",
       "      <td>84.800000</td>\n",
       "      <td>85.340000</td>\n",
       "      <td>84.130000</td>\n",
       "      <td>84.790000</td>\n",
       "      <td>1.320044e+07</td>\n",
       "    </tr>\n",
       "    <tr>\n",
       "      <th>75%</th>\n",
       "      <td>89.530000</td>\n",
       "      <td>89.950000</td>\n",
       "      <td>88.857500</td>\n",
       "      <td>89.450000</td>\n",
       "      <td>1.841606e+07</td>\n",
       "    </tr>\n",
       "    <tr>\n",
       "      <th>max</th>\n",
       "      <td>104.380000</td>\n",
       "      <td>104.760000</td>\n",
       "      <td>103.950000</td>\n",
       "      <td>104.420000</td>\n",
       "      <td>1.180235e+08</td>\n",
       "    </tr>\n",
       "  </tbody>\n",
       "</table>\n",
       "</div>"
      ],
      "text/plain": [
       "             Close         High          Low         Open        Volume\n",
       "count  2151.000000  2151.000000  2151.000000  2151.000000  2.151000e+03\n",
       "mean     83.652650    84.193785    83.043640    83.626437  1.509283e+07\n",
       "std       9.586854     9.571258     9.595647     9.579110  8.423556e+06\n",
       "min      56.570000    56.990000    55.940000    56.850000  0.000000e+00\n",
       "25%      79.600000    80.165000    78.820000    79.640000  9.972062e+06\n",
       "50%      84.800000    85.340000    84.130000    84.790000  1.320044e+07\n",
       "75%      89.530000    89.950000    88.857500    89.450000  1.841606e+07\n",
       "max     104.380000   104.760000   103.950000   104.420000  1.180235e+08"
      ]
     },
     "execution_count": 4,
     "metadata": {},
     "output_type": "execute_result"
    }
   ],
   "source": [
    "data.describe()"
   ]
  },
  {
   "cell_type": "code",
   "execution_count": 5,
   "metadata": {},
   "outputs": [
    {
     "name": "stdout",
     "output_type": "stream",
     "text": [
      "(2151, 5)\n"
     ]
    }
   ],
   "source": [
    "# Convert data from pandas into numpy\n",
    "\n",
    "datanp = data.values\n",
    "print(datanp.shape)"
   ]
  },
  {
   "cell_type": "code",
   "execution_count": 6,
   "metadata": {},
   "outputs": [
    {
     "name": "stdout",
     "output_type": "stream",
     "text": [
      "{'XOM': 2151}\n"
     ]
    },
    {
     "data": {
      "text/plain": [
       "Index(['Close', 'High', 'Low', 'Open', 'Volume', 'is_sellable'], dtype='object')"
      ]
     },
     "execution_count": 6,
     "metadata": {},
     "output_type": "execute_result"
    }
   ],
   "source": [
    "# Create variables for creating flag column\n",
    "\n",
    "trading_days = {}\n",
    "for stock in tickers:\n",
    "    trading_days[stock] = data.loc[stock].shape[0]\n",
    "print(trading_days)\n",
    "\n",
    "open_price = datanp[:, 3]\n",
    "high = datanp[:, 1]\n",
    "is_sellable = np.zeros((open_price.size, 1))\n",
    "\n",
    "# For loop to add the column with flags to identify if stock will hit target within window\n",
    "for index in range(0, trading_days[tickers[0]]):\n",
    "    \n",
    "    end = min(index + window, trading_days[tickers[0]])\n",
    "    \n",
    "    high_window = high[index:end]\n",
    "    if sum(high_window > open_price[index] * (1+target)) > 0:\n",
    "        is_sellable[index, 0] = 1\n",
    "datanp = np.concatenate((datanp, is_sellable), axis = 1)\n",
    "column_labels.append(pd.Index([\"is_sellable\"]))"
   ]
  },
  {
   "cell_type": "code",
   "execution_count": 7,
   "metadata": {},
   "outputs": [],
   "source": [
    "# Export semi-raw data into Excel to check\n",
    "filepath = 'raw_data.xlsx'\n",
    "writer = pd.ExcelWriter(filepath)\n",
    "\n",
    "# Save y in first tab\n",
    "rawData = pd.DataFrame(datanp)\n",
    "rawData.to_excel(writer, sheet_name='rawdata', index=False)\n",
    "\n",
    "# Save the Excel file\n",
    "writer.save()"
   ]
  },
  {
   "cell_type": "code",
   "execution_count": 8,
   "metadata": {},
   "outputs": [],
   "source": [
    "# Create columns with % change in prices, instead of raw price numbers\n",
    "\n",
    "datanp = fn.create_columns(datanp, columns = \"OHLC\")"
   ]
  },
  {
   "cell_type": "code",
   "execution_count": 9,
   "metadata": {},
   "outputs": [],
   "source": [
    "# Normalize the data\n",
    "\n",
    "datanp = fn.normalize(datanp)"
   ]
  },
  {
   "cell_type": "code",
   "execution_count": 10,
   "metadata": {},
   "outputs": [],
   "source": [
    "# Creating variable for number of examples\n",
    "\n",
    "m = sum(trading_days.values()) - len(tickers) * (p + window - 1)\n",
    "features = datanp.shape[1] - 1"
   ]
  },
  {
   "cell_type": "code",
   "execution_count": 11,
   "metadata": {},
   "outputs": [],
   "source": [
    "# Re-shaping the data set. Each row should represent `window` days of trading data and the sell flag.\n",
    "\n",
    "data = np.zeros((m, p + 1, features))   # Add on y into the p-dimension so we can shuffle the dataset together, then separate out y\n",
    "Y = np.zeros((m))\n",
    "\n",
    "for stock in tickers:\n",
    "    for i in np.arange(m):\n",
    "        data[i, :p, :] = datanp[i:(i+p), :features]\n",
    "        data[i, -1, :] = [datanp[i+p-1, -1], 0, 0, 0]\n",
    "        #data[i, -1, :] = np.reshape(datanp[i+p-1, -1], (1, features))"
   ]
  },
  {
   "cell_type": "code",
   "execution_count": 12,
   "metadata": {},
   "outputs": [],
   "source": [
    "np.random.shuffle(data)"
   ]
  },
  {
   "cell_type": "code",
   "execution_count": 13,
   "metadata": {},
   "outputs": [
    {
     "name": "stdout",
     "output_type": "stream",
     "text": [
      "(2057, 90, 4)\n",
      "(2057,)\n"
     ]
    }
   ],
   "source": [
    "X = data[:, :p, :]\n",
    "Y = np.reshape(data[:, -1, 0], (X.shape[0]))\n",
    "\n",
    "print(X.shape)\n",
    "print(Y.shape)"
   ]
  },
  {
   "cell_type": "code",
   "execution_count": 14,
   "metadata": {},
   "outputs": [],
   "source": [
    "# Check the data in Excel\n",
    "filepath = 'check_data.xlsx'\n",
    "writer = pd.ExcelWriter(filepath)\n",
    "\n",
    "# Save y in first tab\n",
    "dfY = pd.DataFrame(Y)\n",
    "dfY.to_excel(writer, sheet_name='y', index=False)\n",
    "\n",
    "# Save X labels in subsequent tabs\n",
    "for i in np.arange(X.shape[2]):\n",
    "    dfX = pd.DataFrame(X[:, :, i])\n",
    "    dfX.to_excel(writer, sheet_name=str(i), index=False)\n",
    "\n",
    "# Save the Excel file\n",
    "writer.save()"
   ]
  },
  {
   "cell_type": "markdown",
   "metadata": {},
   "source": [
    "## Encoding stock symbols into machine-readable categories\n",
    "The stock symbol should also be an input in the machine learning model. My hypothesis is that each company's stock will have different patterns, so it's important for the model to identify those differences.\n",
    "\n",
    "We'll need to encode the name of the stock into a machine-readable format. \n",
    "\n",
    "We can consider using one-hot encoding, but if eventually we feed in thousands of stock symbols, this creates a very high-dimension one-hot encoding, which will slow down the model significantly.\n",
    "\n",
    "We can also consider using feature hashing. Research has shown this can significantly reduce the resouces needed to train the model. There is an issue of \"collision\" - but research has shown this doesn't reduce performance (check out: https://dzone.com/articles/feature-hashing-for-scalable-machine-learning). There's also the issue that we won't understand what the feature hash means. We'll save this for later, as I'm not familiar with this functionality yet.\n",
    "\n",
    "I am also considering using binary encoding (for example: [0 1 0 1 0 1 0 0 1 1 1 0 0 0]) to represent the stock symbols. However, initial conversations state that this would require a deeper neural network. Because categories then share some of the same features, a deeper network can \"disentangle\" these categories.\n",
    "\n",
    "Initial conversation on requiring deeper networks for binary encoding. Will need to find more research to back this up: https://stackoverflow.com/questions/40207422/binary-numbers-instead-of-one-hot-vectors/40208528#40208528\n",
    "\n",
    "Some research papers on binary encoding:\n",
    "https://www.researchgate.net/profile/Kedar_Potdar/publication/320465713_A_Comparative_Study_of_Categorical_Variable_Encoding_Techniques_for_Neural_Network_Classifiers/links/59e6f9554585151e5465859c/A-Comparative-Study-of-Categorical-Variable-Encoding-Techniques-for-Neural-Network-Classifiers.pdf\n",
    "\n",
    "For now, we'll start with one-hot encoding and keep our universe of stocks to <50."
   ]
  },
  {
   "cell_type": "code",
   "execution_count": 15,
   "metadata": {},
   "outputs": [],
   "source": [
    "# One hot encoding of the stock symbols\n",
    "\n",
    "values = array(tickers)\n",
    "\n",
    "# Integer encode\n",
    "label_encoder = LabelEncoder()\n",
    "integer_encoded = label_encoder.fit_transform(values)\n",
    "\n",
    "# Binary encode\n",
    "onehot_encoder = OneHotEncoder(sparse=False)\n",
    "integer_encoded = integer_encoded.reshape(len(integer_encoded), 1)\n",
    "ohe_tickers = onehot_encoder.fit_transform(integer_encoded)\n",
    "\n",
    "# Create a dictionary mapping the tickers to their one-hot encodings\n",
    "ticker_dict = {}\n",
    "\n",
    "for index, company in pd.Series(tickers).items():\n",
    "    ticker_dict[company] = ohe_tickers[index]"
   ]
  },
  {
   "cell_type": "code",
   "execution_count": 16,
   "metadata": {},
   "outputs": [],
   "source": [
    "# Append ohe_tickers to data\n",
    "\n",
    "# ohe_list = []\n",
    "\n",
    "# for index, company in pd.Series(tickers).items():\n",
    "    # ohe_list.append(pd.concat([pd.Series(ticker_dict[company]).T] * time_index_AAPL.size, axis = 1).T)\n",
    "\n",
    "# ohe_table = pd.concat(ohe_list, ignore_index=True)\n",
    "\n",
    "# ohe_table.index = data.index"
   ]
  },
  {
   "cell_type": "code",
   "execution_count": 17,
   "metadata": {},
   "outputs": [],
   "source": [
    "# Append the ohe_table to the data table\n",
    "# data = pd.concat([ohe_table, data], ignore_index=True, axis=1)"
   ]
  },
  {
   "cell_type": "code",
   "execution_count": 18,
   "metadata": {},
   "outputs": [],
   "source": [
    "# Rename columns in data table\n",
    "# data.columns = ['ohe1', 'ohe2', 'ohe3', 'ohe4', 'ohe5', 'ohe6', 'ohe7', 'ohe8', 'ohe9', 'ohe10', 'Close', 'High', 'Low', 'Open', 'Volume', 'is_sellable']"
   ]
  },
  {
   "cell_type": "code",
   "execution_count": 19,
   "metadata": {},
   "outputs": [],
   "source": [
    "# Ensure ohe section has been added correctly\n",
    "\n",
    "#for stock in tickers:\n",
    "# sum ohe1-ohe10 across rows for each stock, see if they equal ticker_dict"
   ]
  },
  {
   "cell_type": "markdown",
   "metadata": {},
   "source": [
    "We'll need to split our data set into a training, development and test set.\n",
    "\n",
    "We have to convert the data into numpy (from pandas) and reshape them into 3 dimensions to fit through LSTM. I'm not entirely sure why yet, but let's just try to see if it works for now."
   ]
  },
  {
   "cell_type": "code",
   "execution_count": 21,
   "metadata": {},
   "outputs": [],
   "source": [
    "# Split our data set into train/dev/test sets based on indicated split %.\n",
    "\n",
    "pct_train = .90\n",
    "pct_dev = .05\n",
    "pct_test = 1 - pct_train - pct_dev"
   ]
  },
  {
   "cell_type": "code",
   "execution_count": 22,
   "metadata": {},
   "outputs": [],
   "source": [
    "# Index of separation points within the index\n",
    "train_dev_idx_num = int(pct_train * m)\n",
    "dev_test_idx_num = int((pct_train + pct_dev) * m)\n",
    "\n",
    "# Split the data as per proportions above\n",
    "X_train = X[:train_dev_idx_num, :, :]\n",
    "Y_train = Y[:train_dev_idx_num]\n",
    "\n",
    "X_dev = X[train_dev_idx_num:dev_test_idx_num, :, :]\n",
    "Y_dev = Y[train_dev_idx_num:dev_test_idx_num]\n",
    "\n",
    "X_test = X[dev_test_idx_num:, :, :]\n",
    "Y_test = Y[dev_test_idx_num:]\n",
    "\n",
    "# Question: How do we use the dev set again?"
   ]
  },
  {
   "cell_type": "code",
   "execution_count": 23,
   "metadata": {},
   "outputs": [
    {
     "data": {
      "text/plain": [
       "'shape: (1851, 90, 4)'"
      ]
     },
     "metadata": {},
     "output_type": "display_data"
    },
    {
     "data": {
      "text/plain": [
       "'shape: (1851,)'"
      ]
     },
     "metadata": {},
     "output_type": "display_data"
    },
    {
     "data": {
      "text/plain": [
       "'shape: (103, 90, 4)'"
      ]
     },
     "metadata": {},
     "output_type": "display_data"
    },
    {
     "data": {
      "text/plain": [
       "'shape: (103,)'"
      ]
     },
     "metadata": {},
     "output_type": "display_data"
    },
    {
     "data": {
      "text/plain": [
       "'shape: (103, 90, 4)'"
      ]
     },
     "metadata": {},
     "output_type": "display_data"
    },
    {
     "data": {
      "text/plain": [
       "'shape: (103,)'"
      ]
     },
     "metadata": {},
     "output_type": "display_data"
    }
   ],
   "source": [
    "# Make sure dimensions are correct\n",
    "for i in [X_train, Y_train, X_dev, Y_dev, X_test, Y_test]:\n",
    "    display(\"shape: {}\".format(i.shape))"
   ]
  },
  {
   "cell_type": "markdown",
   "metadata": {},
   "source": [
    "Now we'll begin building our model."
   ]
  },
  {
   "cell_type": "code",
   "execution_count": 24,
   "metadata": {},
   "outputs": [],
   "source": [
    "# Function for setting up the model architecture\n",
    "\n",
    "def model_setup(layers = 2):\n",
    "\n",
    "    return_sequences = False\n",
    "    \n",
    "    if layers == 2:\n",
    "        return_sequences = True\n",
    "        \n",
    "    model = Sequential()\n",
    "    model.add(LSTM(output_dim = 50, input_shape = (X_train.shape[1], X_train.shape[2]), return_sequences = return_sequences))\n",
    "    model.add(Activation(\"relu\"))\n",
    "    model.add(Dropout(0.2))\n",
    "\n",
    "    if layers == 2:\n",
    "        model.add(LSTM(100, return_sequences = False))\n",
    "        model.add(Activation(\"relu\"))\n",
    "        model.add(Dropout(0.2))\n",
    "\n",
    "    model.add(Dense(1, activation=\"sigmoid\"))\n",
    "    \n",
    "    return model"
   ]
  },
  {
   "cell_type": "code",
   "execution_count": 25,
   "metadata": {},
   "outputs": [
    {
     "name": "stderr",
     "output_type": "stream",
     "text": [
      "/anaconda3/lib/python3.6/site-packages/ipykernel_launcher.py:11: UserWarning: Update your `LSTM` call to the Keras 2 API: `LSTM(input_shape=(90, 4), return_sequences=False, units=50)`\n",
      "  # This is added back by InteractiveShellApp.init_path()\n"
     ]
    },
    {
     "name": "stdout",
     "output_type": "stream",
     "text": [
      "_________________________________________________________________\n",
      "Layer (type)                 Output Shape              Param #   \n",
      "=================================================================\n",
      "lstm_1 (LSTM)                (None, 50)                11000     \n",
      "_________________________________________________________________\n",
      "activation_1 (Activation)    (None, 50)                0         \n",
      "_________________________________________________________________\n",
      "dropout_1 (Dropout)          (None, 50)                0         \n",
      "_________________________________________________________________\n",
      "dense_1 (Dense)              (None, 1)                 51        \n",
      "=================================================================\n",
      "Total params: 11,051\n",
      "Trainable params: 11,051\n",
      "Non-trainable params: 0\n",
      "_________________________________________________________________\n",
      "Baseline accuracy: 0.6188624210014584\n",
      "Model compilation time :  0.09524703025817871\n",
      "Epoch 1/10\n",
      "1851/1851 [==============================] - 7s 4ms/step - loss: 0.6416 - acc: 0.6591\n",
      "Epoch 2/10\n",
      "1851/1851 [==============================] - 5s 3ms/step - loss: 0.5897 - acc: 0.6834\n",
      "Epoch 3/10\n",
      "1851/1851 [==============================] - 5s 3ms/step - loss: 0.5530 - acc: 0.7023\n",
      "Epoch 4/10\n",
      "1851/1851 [==============================] - 5s 3ms/step - loss: 0.5304 - acc: 0.7169\n",
      "Epoch 5/10\n",
      "1851/1851 [==============================] - 5s 3ms/step - loss: 0.5197 - acc: 0.7110\n",
      "Epoch 6/10\n",
      "1851/1851 [==============================] - 6s 3ms/step - loss: 0.5164 - acc: 0.7234\n",
      "Epoch 7/10\n",
      "1851/1851 [==============================] - 6s 3ms/step - loss: 0.5178 - acc: 0.7147\n",
      "Epoch 8/10\n",
      "1851/1851 [==============================] - 5s 3ms/step - loss: 0.5125 - acc: 0.7293\n",
      "Epoch 9/10\n",
      "1851/1851 [==============================] - 5s 3ms/step - loss: 0.5080 - acc: 0.7310\n",
      "Epoch 10/10\n",
      "1851/1851 [==============================] - 5s 3ms/step - loss: 0.5065 - acc: 0.7283\n",
      "Model fit time :  55.244837045669556\n",
      "103/103 [==============================] - 0s 2ms/step\n",
      "[0.5197626352310181, 0.6990291476249695]\n"
     ]
    },
    {
     "data": {
      "image/png": "[encoded data removed]",
      "text/plain": [
       "<matplotlib.figure.Figure at 0x1a1feb9dd8>"
      ]
     },
     "metadata": {},
     "output_type": "display_data"
    },
    {
     "data": {
      "image/png": "[encoded data removed]",
      "text/plain": [
       "<matplotlib.figure.Figure at 0x1a2c57db00>"
      ]
     },
     "metadata": {},
     "output_type": "display_data"
    }
   ],
   "source": [
    "# Create a 1 layer model, and see how it performs.\n",
    "model1 = model_setup(layers = 1)\n",
    "model1.summary()\n",
    "print(\"Baseline accuracy: {}\".format(np.average(Y)))\n",
    "\n",
    "# Train the model\n",
    "start = time.time()\n",
    "model1.compile(optimizer='adam', loss='binary_crossentropy', metrics=['accuracy'])\n",
    "print ('Model compilation time : ', time.time() - start)\n",
    "history1 = model1.fit(X_train, Y_train, epochs=10, batch_size=32)\n",
    "print ('Model fit time : ', time.time() - start)\n",
    "\n",
    "# Evaluate the model\n",
    "score = model1.evaluate(X_test, Y_test, batch_size=128)\n",
    "print(score)\n",
    "fn.plot_loss(history1)\n",
    "\n",
    "plot_model(model1, to_file='model_plot1.png', show_shapes=True, show_layer_names=True)"
   ]
  },
  {
   "cell_type": "markdown",
   "metadata": {},
   "source": [
    "<img src=\"model_plot1.png\" style=\"width:300px;height:900px;\">"
   ]
  },
  {
   "cell_type": "code",
   "execution_count": 26,
   "metadata": {
    "scrolled": false
   },
   "outputs": [
    {
     "name": "stderr",
     "output_type": "stream",
     "text": [
      "/anaconda3/lib/python3.6/site-packages/ipykernel_launcher.py:11: UserWarning: Update your `LSTM` call to the Keras 2 API: `LSTM(input_shape=(90, 4), return_sequences=True, units=50)`\n",
      "  # This is added back by InteractiveShellApp.init_path()\n"
     ]
    },
    {
     "name": "stdout",
     "output_type": "stream",
     "text": [
      "_________________________________________________________________\n",
      "Layer (type)                 Output Shape              Param #   \n",
      "=================================================================\n",
      "lstm_2 (LSTM)                (None, 90, 50)            11000     \n",
      "_________________________________________________________________\n",
      "activation_2 (Activation)    (None, 90, 50)            0         \n",
      "_________________________________________________________________\n",
      "dropout_2 (Dropout)          (None, 90, 50)            0         \n",
      "_________________________________________________________________\n",
      "lstm_3 (LSTM)                (None, 100)               60400     \n",
      "_________________________________________________________________\n",
      "activation_3 (Activation)    (None, 100)               0         \n",
      "_________________________________________________________________\n",
      "dropout_3 (Dropout)          (None, 100)               0         \n",
      "_________________________________________________________________\n",
      "dense_2 (Dense)              (None, 1)                 101       \n",
      "=================================================================\n",
      "Total params: 71,501\n",
      "Trainable params: 71,501\n",
      "Non-trainable params: 0\n",
      "_________________________________________________________________\n",
      "Baseline accuracy: 0.6188624210014584\n",
      "Model compilation time :  0.040909767150878906\n",
      "Epoch 1/50\n",
      "1851/1851 [==============================] - 12s 6ms/step - loss: 0.6632 - acc: 0.6094\n",
      "Epoch 2/50\n",
      "1851/1851 [==============================] - 11s 6ms/step - loss: 0.6413 - acc: 0.6186\n",
      "Epoch 3/50\n",
      "1851/1851 [==============================] - 12s 6ms/step - loss: 0.6267 - acc: 0.6386\n",
      "Epoch 4/50\n",
      "1851/1851 [==============================] - 13s 7ms/step - loss: 0.5908 - acc: 0.6764\n",
      "Epoch 5/50\n",
      "1851/1851 [==============================] - 12s 7ms/step - loss: 0.5423 - acc: 0.7029\n",
      "Epoch 6/50\n",
      "1851/1851 [==============================] - 11s 6ms/step - loss: 0.5286 - acc: 0.7120\n",
      "Epoch 7/50\n",
      "1851/1851 [==============================] - 10s 5ms/step - loss: 0.5195 - acc: 0.7261\n",
      "Epoch 8/50\n",
      "1851/1851 [==============================] - 10s 5ms/step - loss: 0.5118 - acc: 0.7212\n",
      "Epoch 9/50\n",
      "1851/1851 [==============================] - 10s 5ms/step - loss: 0.5071 - acc: 0.7256\n",
      "Epoch 10/50\n",
      "1851/1851 [==============================] - 10s 5ms/step - loss: 0.5097 - acc: 0.7337\n",
      "Epoch 11/50\n",
      "1851/1851 [==============================] - 10s 5ms/step - loss: 0.5027 - acc: 0.7304\n",
      "Epoch 12/50\n",
      "1851/1851 [==============================] - 10s 5ms/step - loss: 0.4984 - acc: 0.7315\n",
      "Epoch 13/50\n",
      "1851/1851 [==============================] - 10s 5ms/step - loss: 0.4932 - acc: 0.7412\n",
      "Epoch 14/50\n",
      "1851/1851 [==============================] - 10s 5ms/step - loss: 0.4912 - acc: 0.7434\n",
      "Epoch 15/50\n",
      "1851/1851 [==============================] - 10s 5ms/step - loss: 0.4877 - acc: 0.7445\n",
      "Epoch 16/50\n",
      "1851/1851 [==============================] - 10s 5ms/step - loss: 0.4783 - acc: 0.7531\n",
      "Epoch 17/50\n",
      "1851/1851 [==============================] - 10s 5ms/step - loss: 0.4827 - acc: 0.7407\n",
      "Epoch 18/50\n",
      "1851/1851 [==============================] - 10s 5ms/step - loss: 0.4762 - acc: 0.7461\n",
      "Epoch 19/50\n",
      "1851/1851 [==============================] - 10s 5ms/step - loss: 0.4760 - acc: 0.7547\n",
      "Epoch 20/50\n",
      "1851/1851 [==============================] - 10s 5ms/step - loss: 0.4652 - acc: 0.7574\n",
      "Epoch 21/50\n",
      "1851/1851 [==============================] - 10s 5ms/step - loss: 0.4668 - acc: 0.7553\n",
      "Epoch 22/50\n",
      "1851/1851 [==============================] - 10s 5ms/step - loss: 0.4643 - acc: 0.7569\n",
      "Epoch 23/50\n",
      "1851/1851 [==============================] - 10s 5ms/step - loss: 0.4506 - acc: 0.7661\n",
      "Epoch 24/50\n",
      "1851/1851 [==============================] - 10s 5ms/step - loss: 0.4444 - acc: 0.7715\n",
      "Epoch 25/50\n",
      "1851/1851 [==============================] - 10s 5ms/step - loss: 0.4409 - acc: 0.7839\n",
      "Epoch 26/50\n",
      "1851/1851 [==============================] - 10s 5ms/step - loss: 0.4294 - acc: 0.7790\n",
      "Epoch 27/50\n",
      "1851/1851 [==============================] - 10s 5ms/step - loss: 0.4348 - acc: 0.7726\n",
      "Epoch 28/50\n",
      "1851/1851 [==============================] - 10s 5ms/step - loss: 0.4212 - acc: 0.7850\n",
      "Epoch 29/50\n",
      "1851/1851 [==============================] - 10s 5ms/step - loss: 0.4017 - acc: 0.8006\n",
      "Epoch 30/50\n",
      "1851/1851 [==============================] - 10s 5ms/step - loss: 0.4032 - acc: 0.8050\n",
      "Epoch 31/50\n",
      "1851/1851 [==============================] - 10s 5ms/step - loss: 0.3897 - acc: 0.8023\n",
      "Epoch 32/50\n",
      "1851/1851 [==============================] - 10s 5ms/step - loss: 0.4056 - acc: 0.7947\n",
      "Epoch 33/50\n",
      "1851/1851 [==============================] - 10s 5ms/step - loss: 0.3900 - acc: 0.8158\n",
      "Epoch 34/50\n",
      "1851/1851 [==============================] - 10s 5ms/step - loss: 0.3754 - acc: 0.8212\n",
      "Epoch 35/50\n",
      "1851/1851 [==============================] - 12s 6ms/step - loss: 0.3540 - acc: 0.8320\n",
      "Epoch 36/50\n",
      "1851/1851 [==============================] - 13s 7ms/step - loss: 0.3516 - acc: 0.8374\n",
      "Epoch 37/50\n",
      "1851/1851 [==============================] - 10s 6ms/step - loss: 0.3376 - acc: 0.8401\n",
      "Epoch 38/50\n",
      "1851/1851 [==============================] - 11s 6ms/step - loss: 0.3426 - acc: 0.8385\n",
      "Epoch 39/50\n",
      "1851/1851 [==============================] - 11s 6ms/step - loss: 0.3217 - acc: 0.8601\n",
      "Epoch 40/50\n",
      "1851/1851 [==============================] - 11s 6ms/step - loss: 0.3137 - acc: 0.8509\n",
      "Epoch 41/50\n",
      "1851/1851 [==============================] - 10s 6ms/step - loss: 0.3066 - acc: 0.8552\n",
      "Epoch 42/50\n",
      "1851/1851 [==============================] - 10s 5ms/step - loss: 0.2948 - acc: 0.8736\n",
      "Epoch 43/50\n",
      "1851/1851 [==============================] - 11s 6ms/step - loss: 0.2964 - acc: 0.8671\n",
      "Epoch 44/50\n",
      "1851/1851 [==============================] - 10s 6ms/step - loss: 0.2628 - acc: 0.8811\n",
      "Epoch 45/50\n",
      "1851/1851 [==============================] - 12s 6ms/step - loss: 0.2516 - acc: 0.8930\n",
      "Epoch 46/50\n",
      "1851/1851 [==============================] - 11s 6ms/step - loss: 0.2439 - acc: 0.8968\n",
      "Epoch 47/50\n",
      "1851/1851 [==============================] - 10s 6ms/step - loss: 0.2585 - acc: 0.8882\n",
      "Epoch 48/50\n",
      "1851/1851 [==============================] - 11s 6ms/step - loss: 0.2365 - acc: 0.8920\n",
      "Epoch 49/50\n",
      "1851/1851 [==============================] - 11s 6ms/step - loss: 0.2138 - acc: 0.9082\n",
      "Epoch 50/50\n",
      "1851/1851 [==============================] - 12s 6ms/step - loss: 0.2079 - acc: 0.9114\n",
      "Model fit time :  516.7088398933411\n",
      "103/103 [==============================] - 1s 5ms/step\n",
      "[0.5583593845367432, 0.7766990065574646]\n"
     ]
    },
    {
     "data": {
      "image/png": "[encoded data removed]",
      "text/plain": [
       "<matplotlib.figure.Figure at 0x1078a1d68>"
      ]
     },
     "metadata": {},
     "output_type": "display_data"
    },
    {
     "data": {
      "image/png": "[encoded data removed]",
      "text/plain": [
       "<matplotlib.figure.Figure at 0x1a2d7bdb38>"
      ]
     },
     "metadata": {},
     "output_type": "display_data"
    }
   ],
   "source": [
    "# Create a 2 layer model, and see how it performs.\n",
    "model2 = model_setup(layers = 2)\n",
    "model2.summary()\n",
    "print(\"Baseline accuracy: {}\".format(np.average(Y)))\n",
    "\n",
    "# Train the model\n",
    "start = time.time()\n",
    "model2.compile(optimizer='adam', loss='binary_crossentropy', metrics=['accuracy'])\n",
    "print ('Model compilation time : ', time.time() - start)\n",
    "history2 = model2.fit(X_train, Y_train, epochs=50, batch_size=32)\n",
    "print ('Model fit time : ', time.time() - start)\n",
    "\n",
    "# Evaluate the model\n",
    "score = model2.evaluate(X_test, Y_test, batch_size=128)\n",
    "print(score)\n",
    "fn.plot_loss(history2)\n",
    "\n",
    "plot_model(model2, to_file='model_plot2.png', show_shapes=True, show_layer_names=True)"
   ]
  },
  {
   "cell_type": "markdown",
   "metadata": {},
   "source": [
    "<img src=\"model_plot2.png\" style=\"width:300px;height:900px;\">"
   ]
  },
  {
   "cell_type": "markdown",
   "metadata": {},
   "source": [
    "Further investigations:\n",
    "- Review for any other journals on RNN models on stock data\n",
    "- Check other ML models - what did they do? What did they include? What did they not include? And why?\n",
    "- Do we need to add some drop out blocks? Drop out blocks help with regularization. But given that there is so much noise in stock data, is this required?\n",
    "- Do I need to further update the data so that it's not just raw prices, but daily changes, volumes, distance, etc.?\n",
    "\n",
    "This research was inspired by the following papers:\n",
    "- https://pdfs.semanticscholar.org/6ea2/b0f7f9de845790d9add00a0a103f9d3242b5.pdf"
   ]
  }
 ],
 "metadata": {
  "kernelspec": {
   "display_name": "Python 3",
   "language": "python",
   "name": "python3"
  },
  "language_info": {
   "codemirror_mode": {
    "name": "ipython",
    "version": 3
   },
   "file_extension": ".py",
   "mimetype": "text/x-python",
   "name": "python",
   "nbconvert_exporter": "python",
   "pygments_lexer": "ipython3",
   "version": "3.6.4"
  }
 },
 "nbformat": 4,
 "nbformat_minor": 2
}
