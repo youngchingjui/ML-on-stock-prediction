{
 "cells": [
  {
   "cell_type": "markdown",
   "metadata": {},
   "source": [
    "# Recurrent Neural Networks on Stock Prediction v2"
   ]
  },
  {
   "cell_type": "markdown",
   "metadata": {},
   "source": [
    "Thesis: NN can better identify patterns within the stock market, because they are able to analyse data at dimensions higher than 3 very easily. People are only able to perceive up to 3 dimensions, which limits our ability to identify patterns within a multi-dimensional data set\n",
    "\n",
    "Practice: Build a RNN for a single stock. See if it can identify whether a stock will rise by 1% within 5 days."
   ]
  },
  {
   "cell_type": "markdown",
   "metadata": {},
   "source": [
    "Steps:\n",
    "- Check if other stock characteristics are important (industry, business model, volatility, etc.)\n",
    "- Expand to include multiple day windows (3 days, 10 days, 1 day, etc.) See if predictions are more accurate for these multiple windows\n",
    "- Expand to include multiple buffers (2%, 5%, 10%, etc.). \n",
    "    - Note: Of course a 10% rise in 5 days is very unlikely, but perhaps the model is able to predict these flags with higher precision?"
   ]
  },
  {
   "cell_type": "code",
   "execution_count": 1,
   "metadata": {},
   "outputs": [
    {
     "name": "stderr",
     "output_type": "stream",
     "text": [
      "/anaconda3/lib/python3.6/site-packages/h5py/__init__.py:36: FutureWarning: Conversion of the second argument of issubdtype from `float` to `np.floating` is deprecated. In future, it will be treated as `np.float64 == np.dtype(float).type`.\n",
      "  from ._conv import register_converters as _register_converters\n",
      "Using TensorFlow backend.\n"
     ]
    }
   ],
   "source": [
    "# Import the required packages\n",
    "\n",
    "# This is my personal functions list\n",
    "import stock_trading_functions as fn\n",
    "\n",
    "import numpy as np\n",
    "from numpy import array, argmax\n",
    "\n",
    "import pandas as pd\n",
    "from pandas import DataFrame\n",
    "from pandas_datareader import data\n",
    "\n",
    "import matplotlib.pyplot as plt\n",
    "from matplotlib import style\n",
    "\n",
    "from datetime import datetime\n",
    "\n",
    "from keras.models import Sequential\n",
    "from keras.layers import Dense, Activation, Dropout, LSTM\n",
    "from keras.utils import to_categorical, plot_model\n",
    "\n",
    "from sklearn.preprocessing import OneHotEncoder, LabelEncoder\n",
    "\n",
    "import time\n",
    "\n",
    "from colour import Color\n",
    "\n",
    "import missingno as msno"
   ]
  },
  {
   "cell_type": "markdown",
   "metadata": {},
   "source": [
    "The model:\n",
    "\n",
    "I'm going to build a Long-Short Term Memory Neural Network.\n",
    "\n",
    "The data:\n",
    "Each data sample will represent `p` days previous of trading information (OHLC) for a particular stock. The model will predict whether the stock will be able to go up `target`% within `window` number days.\n",
    "\n",
    "For now, we'll set the following hyperparameters:"
   ]
  },
  {
   "cell_type": "code",
   "execution_count": 2,
   "metadata": {},
   "outputs": [],
   "source": [
    "# Set our hyperparameter variables\n",
    "\n",
    "# For now we'll just pick one stock. Later, I'll want to add a list of multiple stocks\n",
    "stockNames = [\"GE\", \"MA\", \"MSFT\", \"DIS\"] # Sample stock to play with\n",
    "target = .01     # Target to identify if stock increased by 1%\n",
    "window = 5       # Window to identify whether stock hit target within these number of days\n",
    "p = 90           # number of days of data for each data point\n",
    "\n",
    "# The features we'll include in X to inform the model\n",
    "features = [\"oh_pct\", \"ol_pct\", \"oc_pct\", \"co_pct\", \"cc_pct\"]"
   ]
  },
  {
   "cell_type": "code",
   "execution_count": 33,
   "metadata": {},
   "outputs": [
    {
     "name": "stdout",
     "output_type": "stream",
     "text": [
      "Loading data for 4 stocks took 13.2 seconds\n"
     ]
    }
   ],
   "source": [
    "# Load the OHLC data into the variable data\n",
    "data_source = 'morningstar'\n",
    "start_date = datetime(2010, 1, 1)\n",
    "end_date = datetime(2018, 4, 30)\n",
    "\n",
    "# Measure how long it takes to load the data \n",
    "startTime = time.time()\n",
    "\n",
    "# Load the data\n",
    "base_data = data.DataReader(stockNames, data_source, start_date, end_date)\n",
    "column_labels = base_data.columns\n",
    "print(\"Loading data for {} stocks took {:3.1f} seconds\".format(len(stockNames), time.time()-startTime))\n",
    "\n",
    "# Sort the data by date so that we can reference slices of the date index later\n",
    "base_data.sort_index(level=[0], axis=0, inplace=True)"
   ]
  },
  {
   "cell_type": "code",
   "execution_count": 34,
   "metadata": {
    "scrolled": true
   },
   "outputs": [
    {
     "data": {
      "text/html": [
       "<div>\n",
       "<style scoped>\n",
       "    .dataframe tbody tr th:only-of-type {\n",
       "        vertical-align: middle;\n",
       "    }\n",
       "\n",
       "    .dataframe tbody tr th {\n",
       "        vertical-align: top;\n",
       "    }\n",
       "\n",
       "    .dataframe thead th {\n",
       "        text-align: right;\n",
       "    }\n",
       "</style>\n",
       "<table border=\"1\" class=\"dataframe\">\n",
       "  <thead>\n",
       "    <tr style=\"text-align: right;\">\n",
       "      <th></th>\n",
       "      <th></th>\n",
       "      <th>Close</th>\n",
       "      <th>High</th>\n",
       "      <th>Low</th>\n",
       "      <th>Open</th>\n",
       "      <th>Volume</th>\n",
       "    </tr>\n",
       "    <tr>\n",
       "      <th>Symbol</th>\n",
       "      <th>Date</th>\n",
       "      <th></th>\n",
       "      <th></th>\n",
       "      <th></th>\n",
       "      <th></th>\n",
       "      <th></th>\n",
       "    </tr>\n",
       "  </thead>\n",
       "  <tbody>\n",
       "    <tr>\n",
       "      <th rowspan=\"10\" valign=\"top\">DIS</th>\n",
       "      <th>2010-01-01</th>\n",
       "      <td>32.25</td>\n",
       "      <td>32.75</td>\n",
       "      <td>32.22</td>\n",
       "      <td>32.27</td>\n",
       "      <td>0</td>\n",
       "    </tr>\n",
       "    <tr>\n",
       "      <th>2010-01-04</th>\n",
       "      <td>32.07</td>\n",
       "      <td>32.75</td>\n",
       "      <td>31.87</td>\n",
       "      <td>32.50</td>\n",
       "      <td>13700385</td>\n",
       "    </tr>\n",
       "    <tr>\n",
       "      <th>2010-01-05</th>\n",
       "      <td>31.99</td>\n",
       "      <td>32.16</td>\n",
       "      <td>31.70</td>\n",
       "      <td>32.07</td>\n",
       "      <td>10307697</td>\n",
       "    </tr>\n",
       "    <tr>\n",
       "      <th>2010-01-06</th>\n",
       "      <td>31.82</td>\n",
       "      <td>32.00</td>\n",
       "      <td>31.68</td>\n",
       "      <td>31.90</td>\n",
       "      <td>10709499</td>\n",
       "    </tr>\n",
       "    <tr>\n",
       "      <th>2010-01-07</th>\n",
       "      <td>31.83</td>\n",
       "      <td>31.86</td>\n",
       "      <td>31.54</td>\n",
       "      <td>31.77</td>\n",
       "      <td>8202059</td>\n",
       "    </tr>\n",
       "    <tr>\n",
       "      <th>2010-01-08</th>\n",
       "      <td>31.88</td>\n",
       "      <td>31.94</td>\n",
       "      <td>31.53</td>\n",
       "      <td>31.66</td>\n",
       "      <td>7657457</td>\n",
       "    </tr>\n",
       "    <tr>\n",
       "      <th>2010-01-11</th>\n",
       "      <td>31.36</td>\n",
       "      <td>31.74</td>\n",
       "      <td>31.09</td>\n",
       "      <td>31.53</td>\n",
       "      <td>11254030</td>\n",
       "    </tr>\n",
       "    <tr>\n",
       "      <th>2010-01-12</th>\n",
       "      <td>30.82</td>\n",
       "      <td>31.12</td>\n",
       "      <td>30.68</td>\n",
       "      <td>31.02</td>\n",
       "      <td>14618808</td>\n",
       "    </tr>\n",
       "    <tr>\n",
       "      <th>2010-01-13</th>\n",
       "      <td>31.29</td>\n",
       "      <td>31.37</td>\n",
       "      <td>30.87</td>\n",
       "      <td>30.89</td>\n",
       "      <td>9620530</td>\n",
       "    </tr>\n",
       "    <tr>\n",
       "      <th>2010-01-14</th>\n",
       "      <td>31.02</td>\n",
       "      <td>31.18</td>\n",
       "      <td>30.96</td>\n",
       "      <td>31.13</td>\n",
       "      <td>9236595</td>\n",
       "    </tr>\n",
       "  </tbody>\n",
       "</table>\n",
       "</div>"
      ],
      "text/plain": [
       "                   Close   High    Low   Open    Volume\n",
       "Symbol Date                                            \n",
       "DIS    2010-01-01  32.25  32.75  32.22  32.27         0\n",
       "       2010-01-04  32.07  32.75  31.87  32.50  13700385\n",
       "       2010-01-05  31.99  32.16  31.70  32.07  10307697\n",
       "       2010-01-06  31.82  32.00  31.68  31.90  10709499\n",
       "       2010-01-07  31.83  31.86  31.54  31.77   8202059\n",
       "       2010-01-08  31.88  31.94  31.53  31.66   7657457\n",
       "       2010-01-11  31.36  31.74  31.09  31.53  11254030\n",
       "       2010-01-12  30.82  31.12  30.68  31.02  14618808\n",
       "       2010-01-13  31.29  31.37  30.87  30.89   9620530\n",
       "       2010-01-14  31.02  31.18  30.96  31.13   9236595"
      ]
     },
     "execution_count": 34,
     "metadata": {},
     "output_type": "execute_result"
    }
   ],
   "source": [
    "base_data.head(10)"
   ]
  },
  {
   "cell_type": "code",
   "execution_count": 4,
   "metadata": {},
   "outputs": [],
   "source": [
    "# Export the base_data to CSV so we can check the data transformations\n",
    "\n",
    "base_data.to_csv(\"base_data.csv\")"
   ]
  },
  {
   "cell_type": "code",
   "execution_count": 5,
   "metadata": {
    "scrolled": false
   },
   "outputs": [
    {
     "name": "stdout",
     "output_type": "stream",
     "text": [
      "Here's a summary of our table:\n"
     ]
    },
    {
     "data": {
      "text/html": [
       "<div>\n",
       "<style scoped>\n",
       "    .dataframe tbody tr th:only-of-type {\n",
       "        vertical-align: middle;\n",
       "    }\n",
       "\n",
       "    .dataframe tbody tr th {\n",
       "        vertical-align: top;\n",
       "    }\n",
       "\n",
       "    .dataframe thead th {\n",
       "        text-align: right;\n",
       "    }\n",
       "</style>\n",
       "<table border=\"1\" class=\"dataframe\">\n",
       "  <thead>\n",
       "    <tr style=\"text-align: right;\">\n",
       "      <th></th>\n",
       "      <th>Close</th>\n",
       "      <th>High</th>\n",
       "      <th>Low</th>\n",
       "      <th>Open</th>\n",
       "      <th>Volume</th>\n",
       "    </tr>\n",
       "  </thead>\n",
       "  <tbody>\n",
       "    <tr>\n",
       "      <th>count</th>\n",
       "      <td>8712.000000</td>\n",
       "      <td>8712.000000</td>\n",
       "      <td>8712.000000</td>\n",
       "      <td>8712.000000</td>\n",
       "      <td>8.712000e+03</td>\n",
       "    </tr>\n",
       "    <tr>\n",
       "      <th>mean</th>\n",
       "      <td>53.368581</td>\n",
       "      <td>53.773342</td>\n",
       "      <td>52.933073</td>\n",
       "      <td>53.358062</td>\n",
       "      <td>2.617597e+07</td>\n",
       "    </tr>\n",
       "    <tr>\n",
       "      <th>std</th>\n",
       "      <td>33.942282</td>\n",
       "      <td>34.166818</td>\n",
       "      <td>33.701654</td>\n",
       "      <td>33.940967</td>\n",
       "      <td>2.809366e+07</td>\n",
       "    </tr>\n",
       "    <tr>\n",
       "      <th>min</th>\n",
       "      <td>12.830000</td>\n",
       "      <td>13.079900</td>\n",
       "      <td>12.730000</td>\n",
       "      <td>12.820000</td>\n",
       "      <td>0.000000e+00</td>\n",
       "    </tr>\n",
       "    <tr>\n",
       "      <th>25%</th>\n",
       "      <td>26.550000</td>\n",
       "      <td>26.743750</td>\n",
       "      <td>26.340000</td>\n",
       "      <td>26.557500</td>\n",
       "      <td>6.354093e+06</td>\n",
       "    </tr>\n",
       "    <tr>\n",
       "      <th>50%</th>\n",
       "      <td>40.630000</td>\n",
       "      <td>41.010000</td>\n",
       "      <td>40.250000</td>\n",
       "      <td>40.600000</td>\n",
       "      <td>1.655125e+07</td>\n",
       "    </tr>\n",
       "    <tr>\n",
       "      <th>75%</th>\n",
       "      <td>79.070250</td>\n",
       "      <td>79.792500</td>\n",
       "      <td>78.470000</td>\n",
       "      <td>79.212500</td>\n",
       "      <td>3.848364e+07</td>\n",
       "    </tr>\n",
       "    <tr>\n",
       "      <th>max</th>\n",
       "      <td>190.530000</td>\n",
       "      <td>190.660000</td>\n",
       "      <td>188.020000</td>\n",
       "      <td>188.890000</td>\n",
       "      <td>4.313160e+08</td>\n",
       "    </tr>\n",
       "  </tbody>\n",
       "</table>\n",
       "</div>"
      ],
      "text/plain": [
       "             Close         High          Low         Open        Volume\n",
       "count  8712.000000  8712.000000  8712.000000  8712.000000  8.712000e+03\n",
       "mean     53.368581    53.773342    52.933073    53.358062  2.617597e+07\n",
       "std      33.942282    34.166818    33.701654    33.940967  2.809366e+07\n",
       "min      12.830000    13.079900    12.730000    12.820000  0.000000e+00\n",
       "25%      26.550000    26.743750    26.340000    26.557500  6.354093e+06\n",
       "50%      40.630000    41.010000    40.250000    40.600000  1.655125e+07\n",
       "75%      79.070250    79.792500    78.470000    79.212500  3.848364e+07\n",
       "max     190.530000   190.660000   188.020000   188.890000  4.313160e+08"
      ]
     },
     "metadata": {},
     "output_type": "display_data"
    },
    {
     "name": "stdout",
     "output_type": "stream",
     "text": [
      "Here's what the first few rows of what GE looks like\n"
     ]
    },
    {
     "data": {
      "text/html": [
       "<div>\n",
       "<style scoped>\n",
       "    .dataframe tbody tr th:only-of-type {\n",
       "        vertical-align: middle;\n",
       "    }\n",
       "\n",
       "    .dataframe tbody tr th {\n",
       "        vertical-align: top;\n",
       "    }\n",
       "\n",
       "    .dataframe thead th {\n",
       "        text-align: right;\n",
       "    }\n",
       "</style>\n",
       "<table border=\"1\" class=\"dataframe\">\n",
       "  <thead>\n",
       "    <tr style=\"text-align: right;\">\n",
       "      <th></th>\n",
       "      <th></th>\n",
       "      <th>Close</th>\n",
       "      <th>High</th>\n",
       "      <th>Low</th>\n",
       "      <th>Open</th>\n",
       "      <th>Volume</th>\n",
       "    </tr>\n",
       "    <tr>\n",
       "      <th>Symbol</th>\n",
       "      <th>Date</th>\n",
       "      <th></th>\n",
       "      <th></th>\n",
       "      <th></th>\n",
       "      <th></th>\n",
       "      <th></th>\n",
       "    </tr>\n",
       "  </thead>\n",
       "  <tbody>\n",
       "    <tr>\n",
       "      <th rowspan=\"5\" valign=\"top\">DIS</th>\n",
       "      <th>2010-01-01</th>\n",
       "      <td>32.25</td>\n",
       "      <td>32.75</td>\n",
       "      <td>32.22</td>\n",
       "      <td>32.27</td>\n",
       "      <td>0</td>\n",
       "    </tr>\n",
       "    <tr>\n",
       "      <th>2010-01-04</th>\n",
       "      <td>32.07</td>\n",
       "      <td>32.75</td>\n",
       "      <td>31.87</td>\n",
       "      <td>32.50</td>\n",
       "      <td>13700385</td>\n",
       "    </tr>\n",
       "    <tr>\n",
       "      <th>2010-01-05</th>\n",
       "      <td>31.99</td>\n",
       "      <td>32.16</td>\n",
       "      <td>31.70</td>\n",
       "      <td>32.07</td>\n",
       "      <td>10307697</td>\n",
       "    </tr>\n",
       "    <tr>\n",
       "      <th>2010-01-06</th>\n",
       "      <td>31.82</td>\n",
       "      <td>32.00</td>\n",
       "      <td>31.68</td>\n",
       "      <td>31.90</td>\n",
       "      <td>10709499</td>\n",
       "    </tr>\n",
       "    <tr>\n",
       "      <th>2010-01-07</th>\n",
       "      <td>31.83</td>\n",
       "      <td>31.86</td>\n",
       "      <td>31.54</td>\n",
       "      <td>31.77</td>\n",
       "      <td>8202059</td>\n",
       "    </tr>\n",
       "  </tbody>\n",
       "</table>\n",
       "</div>"
      ],
      "text/plain": [
       "                   Close   High    Low   Open    Volume\n",
       "Symbol Date                                            \n",
       "DIS    2010-01-01  32.25  32.75  32.22  32.27         0\n",
       "       2010-01-04  32.07  32.75  31.87  32.50  13700385\n",
       "       2010-01-05  31.99  32.16  31.70  32.07  10307697\n",
       "       2010-01-06  31.82  32.00  31.68  31.90  10709499\n",
       "       2010-01-07  31.83  31.86  31.54  31.77   8202059"
      ]
     },
     "metadata": {},
     "output_type": "display_data"
    }
   ],
   "source": [
    "# Here's a summary of what our data looks like. \n",
    "print(\"Here's a summary of our table:\")\n",
    "display(base_data.describe())\n",
    "print(\"Here's what the first few rows of what {} looks like\".format(stockNames[0]))\n",
    "display(base_data.head())"
   ]
  },
  {
   "cell_type": "code",
   "execution_count": 6,
   "metadata": {},
   "outputs": [],
   "source": [
    "# Create variables for creating flag column\n",
    "def get_trading_days(base_data):\n",
    "    stockNames = base_data.index.levels[0].values\n",
    "    trading_days = {}\n",
    "    for stock in stockNames:\n",
    "        trading_days[stock] = base_data.loc[stock].shape[0]\n",
    "    return trading_days"
   ]
  },
  {
   "cell_type": "markdown",
   "metadata": {},
   "source": [
    "Next, we'll want to create a flag for each day. The flag will indicate whether our stock price will hit the price `target` within `window` days."
   ]
  },
  {
   "cell_type": "code",
   "execution_count": 7,
   "metadata": {},
   "outputs": [],
   "source": [
    "def create_is_sellable_flag(base_data, window = 5, target = 0.01):\n",
    "    # Identify the stocks within the base_data\n",
    "    stockNames = base_data.index.levels[0].values\n",
    "    \n",
    "    # Identify the number of trading days uploaded for each stock\n",
    "    trading_days = get_trading_days(base_data)\n",
    "    \n",
    "    # Check if a \"is_sellable\" column already exists. If so, delete it\n",
    "    if \"is_sellable\" in base_data.columns:\n",
    "        base_data.drop(labels=\"is_sellable\", axis=1, inplace=True)\n",
    "    \n",
    "    open_price = base_data.Open\n",
    "    high = base_data.High\n",
    "    \n",
    "    # Create a `is_sellable` flag column filled with 0s\n",
    "    is_sellable = pd.Series(0, index=base_data.index, name=\"is_sellable\")\n",
    "\n",
    "    startTime = time.time()\n",
    "    #TODO: Vectorize this part. It takes a long time to run.\n",
    "    # For loop to add the column with flags to identify if stock will hit target within window\n",
    "    for stock in stockNames:\n",
    "        index = 0\n",
    "        for indexDate in base_data.loc[stock].index:\n",
    "            endIndex = min(index + window, trading_days[stock]-1)\n",
    "            \n",
    "            # We take the endIndex - 1 because when slicing the dates \n",
    "            # for high_window below, the slice takes both the start and end times inclusive.\n",
    "            endDate = base_data.loc[stock].index[endIndex-1]\n",
    "            high_window = high.loc[stock,indexDate:endDate]\n",
    "\n",
    "            # If high price within the high_window is greater than target price, set is_sellable to 1\n",
    "            if (high_window > open_price.loc[stock,indexDate] * (1+target)).any():\n",
    "                is_sellable.loc[stock, indexDate] = 1\n",
    "            index += 1\n",
    "\n",
    "    # Add is_sellable column to the data variable\n",
    "    print(\"Creating is_sellable column took {:3.1f} seconds\".format(time.time()-startTime))\n",
    "    base_data = pd.concat((base_data, is_sellable), axis=1)\n",
    "    \n",
    "    return base_data"
   ]
  },
  {
   "cell_type": "code",
   "execution_count": 8,
   "metadata": {},
   "outputs": [
    {
     "name": "stdout",
     "output_type": "stream",
     "text": [
      "Creating is_sellable column took 54.3 seconds\n"
     ]
    }
   ],
   "source": [
    "# Create the is_sellable flag column\n",
    "base_data = create_is_sellable_flag(base_data, window=window, target=target)"
   ]
  },
  {
   "cell_type": "code",
   "execution_count": 9,
   "metadata": {},
   "outputs": [],
   "source": [
    "def normalize_prices(base_data):\n",
    "    \n",
    "    # Normalize data by creating columns showing price relation to Open price. Create 4 columns:\n",
    "    # 1) oh_pct = High / Open\n",
    "    # 2) ol_pct = Low / Open\n",
    "    # 3) oc_pct = Close / Open\n",
    "    # 4) co_pct = Open / Close(t-1)\n",
    "    # 5) cc_pct = Close / Close(t-1)\n",
    "    \n",
    "    # Track how long it takes to do this. Performance affected by for loop.\n",
    "    startTime = time.time()\n",
    "    \n",
    "    # Identify the stocks within the base_data\n",
    "    stockNames = base_data.index.levels[0].values\n",
    "    \n",
    "    # Identify the number of trading days uploaded for each stock\n",
    "    trading_days = get_trading_days(base_data)\n",
    "    \n",
    "    # Check if these columns already exist. If so, delete them\n",
    "    for col in base_data.columns:\n",
    "        if col in features:\n",
    "            base_data.drop(labels=col, axis=1, inplace=True)\n",
    "    \n",
    "    # Create the new normalized columns\n",
    "    oh_pct = base_data.High / base_data.Open - 1\n",
    "    ol_pct = base_data.Low / base_data.Open - 1\n",
    "    oc_pct = base_data.Close / base_data.Open - 1\n",
    "    \n",
    "    # Name the new columns, so they have a header in the table\n",
    "    oh_pct.name = \"oh_pct\"\n",
    "    ol_pct.name = \"ol_pct\"\n",
    "    oc_pct.name = \"oc_pct\"\n",
    "    \n",
    "    # Need to run these on a foor loop because they look back 1 day\n",
    "    co_pct = pd.Series(0., index=base_data.index, name=\"co_pct\")\n",
    "    cc_pct = pd.Series(0., index=base_data.index, name=\"cc_pct\")\n",
    "    \n",
    "    for stock in stockNames:\n",
    "        for i in np.arange(trading_days[stock]):\n",
    "            if i != 0:\n",
    "                co_pct.loc[stock].iloc[i] = base_data.Open.loc[stock].iloc[i] / base_data.Close.loc[stock].iloc[i-1] - 1\n",
    "                cc_pct.loc[stock].iloc[i] = base_data.Close.loc[stock].iloc[i] / base_data.Close.loc[stock].iloc[i-1] - 1\n",
    "    base_data = pd.concat((base_data, oh_pct, ol_pct, oc_pct, co_pct, cc_pct), axis=1)\n",
    "    print(\"Creating these columns for {} stocks took {:3.1f} seconds\".format(len(stockNames), time.time()-startTime))\n",
    "    return base_data"
   ]
  },
  {
   "cell_type": "code",
   "execution_count": 10,
   "metadata": {},
   "outputs": [
    {
     "name": "stdout",
     "output_type": "stream",
     "text": [
      "Creating these columns for 4 stocks took 25.3 seconds\n"
     ]
    }
   ],
   "source": [
    "# Create columns with % change in prices, instead of raw price numbers\n",
    "base_data = normalize_prices(base_data)\n",
    "base_data.to_csv(\"normalized.csv\")"
   ]
  },
  {
   "cell_type": "code",
   "execution_count": 11,
   "metadata": {},
   "outputs": [],
   "source": [
    "def remove_stock_prices(base_data):\n",
    "    col_to_remove = [\"Close\", \"High\", \"Low\", \"Open\", \"Volume\"]\n",
    "    for col in col_to_remove:\n",
    "        if col in base_data.columns:\n",
    "            base_data.drop(col, axis=1, inplace=True)\n",
    "    return base_data"
   ]
  },
  {
   "cell_type": "code",
   "execution_count": 12,
   "metadata": {},
   "outputs": [],
   "source": [
    "# We'll also have to remove the original stock prices\n",
    "base_data = remove_stock_prices(base_data)"
   ]
  },
  {
   "cell_type": "code",
   "execution_count": 13,
   "metadata": {},
   "outputs": [],
   "source": [
    "def print_graphs(base_data, ncols = 3):\n",
    "\n",
    "    # Displays graphs showing the stock data\n",
    "    \n",
    "    # Identify the stocks within the base_data\n",
    "    stockNames = base_data.index.levels[0].values\n",
    "    \n",
    "    # Identify the number of trading days uploaded for each stock\n",
    "    trading_days = get_trading_days(base_data)\n",
    "    \n",
    "    # Identify which stock has the most trading days\n",
    "    longest_stock = max(trading_days)\n",
    "    max_time_index = base_data.loc[longest_stock].index\n",
    "    x = max_time_index\n",
    "    \n",
    "    # Setup a few variables for creating the graphs\n",
    "    nrows = int(np.ceil(len(stockNames)/ncols))\n",
    "    figsize = (4*ncols,4*nrows)\n",
    "    ax = np.zeros((nrows, ncols))\n",
    "\n",
    "    # Choose which colors to use for each line\n",
    "    beg_color = Color(\"red\")\n",
    "    end_color = Color(\"blue\")\n",
    "    increasing_colors = list(beg_color.range_to(end_color,len(features)))\n",
    "    \n",
    "    # Create instances for the figure and all of the subplots within the figure\n",
    "    fig, ax = plt.subplots(nrows=nrows, ncols=ncols, sharex='all', sharey='all', figsize=figsize, squeeze = False)\n",
    "    for i in range(nrows):\n",
    "        for j in range(ncols):\n",
    "\n",
    "            # Pick each stock based on location within the nrows x ncols figure\n",
    "            stockIndex = i*ncols + j\n",
    "            if stockIndex < len(stockNames):\n",
    "                ax[i,j].set_title(stockNames[stockIndex])\n",
    "                for k, line in enumerate(features):\n",
    "\n",
    "                    # Initialize the y variable with max_time_index\n",
    "                    y = pd.Series(None, index=max_time_index)\n",
    "                    y.update(base_data.loc[stockNames[stockIndex], line]) \n",
    "                    # Plot the line\n",
    "                    lined = ax[i,j].plot(x, y, color=increasing_colors[k].rgb)\n",
    "    fig.legend(lined, ('Line 1'), 'upper left')\n",
    "    fig.tight_layout()\n",
    "    plt.show()"
   ]
  },
  {
   "cell_type": "code",
   "execution_count": 14,
   "metadata": {},
   "outputs": [
    {
     "data": {
      "image/png": "[encoded data removed]",
      "text/plain": [
       "<matplotlib.figure.Figure at 0x1a210c2198>"
      ]
     },
     "metadata": {},
     "output_type": "display_data"
    }
   ],
   "source": [
    "# Here's the data tables look like now.\n",
    "print_graphs(base_data)"
   ]
  },
  {
   "cell_type": "code",
   "execution_count": 15,
   "metadata": {},
   "outputs": [],
   "source": [
    "def standardize(base_data):\n",
    "    \n",
    "    # Note: This standardizes across all stock data, not for each individual stock.\n",
    "    \n",
    "    # Cycle through each column in the database and standardize each column\n",
    "    for col in base_data.columns:\n",
    "        \n",
    "        # Don't standardize the \"is_sellable\" column\n",
    "        if col != \"is_sellable\":\n",
    "            mean = base_data.loc[:, col].mean()\n",
    "            stddev = base_data.loc[:, col].std()\n",
    "            base_data.loc[:, col] = (base_data.loc[:, col] - mean) / stddev\n",
    "    \n",
    "    return base_data"
   ]
  },
  {
   "cell_type": "code",
   "execution_count": 16,
   "metadata": {},
   "outputs": [],
   "source": [
    "# We'll need to standardize the data to a Gaussian normal (mean = 0, std dev = 1) to allow the model to train faster\n",
    "base_data = standardize(base_data)\n",
    "base_data.to_csv(\"standardized.csv\")"
   ]
  },
  {
   "cell_type": "markdown",
   "metadata": {},
   "source": [
    "The graphs below show the distribution of each column after standardizing them. Notice that oh_pct and ol_pct don't have the normal distribution shape - that is because by the nature of their data. High prices are always higher than open prices, thus oh_pct is always positive, and ol_pct is always negative."
   ]
  },
  {
   "cell_type": "code",
   "execution_count": 17,
   "metadata": {},
   "outputs": [
    {
     "data": {
      "text/plain": [
       "array([[<matplotlib.axes._subplots.AxesSubplot object at 0x1a2123f358>,\n",
       "        <matplotlib.axes._subplots.AxesSubplot object at 0x1a21335c50>],\n",
       "       [<matplotlib.axes._subplots.AxesSubplot object at 0x1a210eb710>,\n",
       "        <matplotlib.axes._subplots.AxesSubplot object at 0x1a210efb38>],\n",
       "       [<matplotlib.axes._subplots.AxesSubplot object at 0x1a21325e48>,\n",
       "        <matplotlib.axes._subplots.AxesSubplot object at 0x1a21325400>]],\n",
       "      dtype=object)"
      ]
     },
     "execution_count": 17,
     "metadata": {},
     "output_type": "execute_result"
    },
    {
     "data": {
      "image/png": "[encoded data removed]",
      "text/plain": [
       "<matplotlib.figure.Figure at 0x1a2123f470>"
      ]
     },
     "metadata": {},
     "output_type": "display_data"
    }
   ],
   "source": [
    "base_data.hist(bins=100, sharex=True)"
   ]
  },
  {
   "cell_type": "code",
   "execution_count": 18,
   "metadata": {},
   "outputs": [
    {
     "name": "stdout",
     "output_type": "stream",
     "text": [
      "[   0    1    2 ... 2081 2082 2083]\n",
      "{'DIS': 2178, 'GE': 2178, 'MA': 2178, 'MSFT': 2178}\n"
     ]
    }
   ],
   "source": [
    "m = {}\n",
    "trading_days = get_trading_days(base_data)\n",
    "for stock in stockNames:\n",
    "    m[stock] = trading_days[stock] - (p + window) + 1\n",
    "\n",
    "print(np.arange(m[stock]))\n",
    "print(trading_days)"
   ]
  },
  {
   "cell_type": "code",
   "execution_count": 19,
   "metadata": {},
   "outputs": [],
   "source": [
    "def reshape_for_LSTM(base_data):\n",
    "    \n",
    "    # Re-shaping the data set. Each row should represent `window` days \n",
    "    # of trading data and the sell flag.\n",
    "\n",
    "    # We're going to be converting our data from pandas to numpy, \n",
    "    # which supports multi-dimensional data much better.\n",
    "    \n",
    "    # Track how long it takes to do this. Performance affected by for loop.\n",
    "    startTime = time.time()\n",
    "    \n",
    "    # Identify the stocks within the base_data\n",
    "    stockNames = base_data.index.levels[0].values\n",
    "    \n",
    "    # Identify the number of trading days uploaded for each stock\n",
    "    trading_days = get_trading_days(base_data)\n",
    "        \n",
    "    # Identify the number of data samples we can get for each stock\n",
    "    m = {}\n",
    "    trading_days = get_trading_days(base_data)\n",
    "    for stock in stockNames:\n",
    "        m[stock] = trading_days[stock] - (p + window) + 1\n",
    "    \n",
    "    f = len(features)\n",
    "    # Intialize the numpy dataset with the right dimensions: (m, p, features)\n",
    "    # We'll add 1 extra slot onto the 2nd dimension so we can include \n",
    "    # the is_sellable column and shuffle the dataset together. \n",
    "    # After shuffling, we'll separate out is_sellable as our y variables.\n",
    "    datanp = np.zeros((sum(m.values()), p + 1, f))   \n",
    "\n",
    "    # Use i_base so we can count across rows for each stock as well as total rows in datanp\n",
    "    i_base = 0\n",
    "    for stock in stockNames:\n",
    "        for i in np.arange(m[stock]): \n",
    "            datanp[i+i_base, :p, :] = base_data.loc[stock, features].iloc[i:i+p].values\n",
    "            datanp[i+i_base, -1, 0] = base_data.loc[stock, \"is_sellable\"].iloc[i+p]\n",
    "        i_base += m[stock]\n",
    "        \n",
    "    return datanp"
   ]
  },
  {
   "cell_type": "code",
   "execution_count": 20,
   "metadata": {},
   "outputs": [],
   "source": [
    "# We'll convert and re-shape the base_data into a suitable format for our LSTM model.\n",
    "# The data will be re-shaped to have shape (m, p+1, # of features)\n",
    "# m is the number of data samples we'll have. Because we're looking at a \n",
    "# history of days size `p`, with a look forward of `window`, our final m count will be\n",
    "# m = trading_days[stock] - (p + w) + 1\n",
    "\n",
    "datanp = reshape_for_LSTM(base_data)"
   ]
  },
  {
   "cell_type": "code",
   "execution_count": 21,
   "metadata": {},
   "outputs": [],
   "source": [
    "# Add a number index to 3 dimension, index 1 so that we can review what the data looks like.\n",
    "# This column won't be copied over to X and Y anyways.\n",
    "datanp[:,-1,1] = np.arange(datanp.shape[0])\n",
    "for col in np.arange(datanp.shape[2]):\n",
    "    np.savetxt(\"index\"+str(col)+\".csv\", datanp[:,:,col], fmt='%.3f', delimiter=\",\")"
   ]
  },
  {
   "cell_type": "code",
   "execution_count": 22,
   "metadata": {},
   "outputs": [],
   "source": [
    "# We need to shuffle the data in order to train the model well.\n",
    "# Otherwise we introduce unnecessary bias.\n",
    "#np.random.shuffle(datanp)\n",
    "#for col in np.arange(datanp.shape[2]):\n",
    "#    np.savetxt(\"shuffle\"+str(col)+\".csv\", datanp[:,:,col], fmt='%.3f', delimiter=\",\")"
   ]
  },
  {
   "cell_type": "code",
   "execution_count": 23,
   "metadata": {},
   "outputs": [],
   "source": [
    "# Now we'll separate out the X data from the Y data\n",
    "X = datanp[:, :p, :]\n",
    "Y = datanp[:, -1, 0]"
   ]
  },
  {
   "cell_type": "markdown",
   "metadata": {},
   "source": [
    "We'll need to split our data set into a training and test set."
   ]
  },
  {
   "cell_type": "code",
   "execution_count": 24,
   "metadata": {},
   "outputs": [],
   "source": [
    "# Split our data set into train/test sets based on split %.\n",
    "pct_train = .95\n",
    "pct_test = 1 - pct_train"
   ]
  },
  {
   "cell_type": "code",
   "execution_count": 25,
   "metadata": {},
   "outputs": [],
   "source": [
    "# Index of separation points within the index\n",
    "train_test_idx_num = int(pct_train * X.shape[0])\n",
    "\n",
    "# Split the data as per proportions above\n",
    "X_train = X[:train_test_idx_num, :, :]\n",
    "Y_train = Y[:train_test_idx_num]\n",
    "\n",
    "X_test = X[train_test_idx_num:, :, :]\n",
    "Y_test = Y[train_test_idx_num:]"
   ]
  },
  {
   "cell_type": "code",
   "execution_count": 26,
   "metadata": {},
   "outputs": [
    {
     "data": {
      "text/plain": [
       "'Shape of X_train: (7919, 90, 5)'"
      ]
     },
     "metadata": {},
     "output_type": "display_data"
    },
    {
     "data": {
      "text/plain": [
       "'Shape of Y_train: (7919,)'"
      ]
     },
     "metadata": {},
     "output_type": "display_data"
    },
    {
     "data": {
      "text/plain": [
       "'Shape of X_test: (417, 90, 5)'"
      ]
     },
     "metadata": {},
     "output_type": "display_data"
    },
    {
     "data": {
      "text/plain": [
       "'Shape of Y_test: (417,)'"
      ]
     },
     "metadata": {},
     "output_type": "display_data"
    }
   ],
   "source": [
    "# This is what the dimensions look like\n",
    "display(\"Shape of X_train: {}\".format(X_train.shape))\n",
    "display(\"Shape of Y_train: {}\".format(Y_train.shape))\n",
    "display(\"Shape of X_test: {}\".format(X_test.shape))\n",
    "display(\"Shape of Y_test: {}\".format(Y_test.shape))"
   ]
  },
  {
   "cell_type": "markdown",
   "metadata": {},
   "source": [
    "Now we'll begin building our model."
   ]
  },
  {
   "cell_type": "code",
   "execution_count": 27,
   "metadata": {},
   "outputs": [],
   "source": [
    "# Function for setting up the model architecture\n",
    "\n",
    "def model_setup_2_layers():\n",
    "\n",
    "    model = Sequential()\n",
    "    model.add(LSTM(input_shape = (X_train.shape[1], X_train.shape[2]), units = 50, return_sequences = True))\n",
    "    model.add(Activation(\"relu\"))\n",
    "    model.add(Dropout(0.2))\n",
    "\n",
    "    model.add(LSTM(100, return_sequences = False))\n",
    "    model.add(Activation(\"relu\"))\n",
    "    model.add(Dropout(0.2))\n",
    "\n",
    "    model.add(Dense(1, activation=\"sigmoid\"))\n",
    "    \n",
    "    return model"
   ]
  },
  {
   "cell_type": "code",
   "execution_count": 28,
   "metadata": {},
   "outputs": [
    {
     "name": "stdout",
     "output_type": "stream",
     "text": [
      "_________________________________________________________________\n",
      "Layer (type)                 Output Shape              Param #   \n",
      "=================================================================\n",
      "lstm_1 (LSTM)                (None, 90, 50)            11200     \n",
      "_________________________________________________________________\n",
      "activation_1 (Activation)    (None, 90, 50)            0         \n",
      "_________________________________________________________________\n",
      "dropout_1 (Dropout)          (None, 90, 50)            0         \n",
      "_________________________________________________________________\n",
      "lstm_2 (LSTM)                (None, 100)               60400     \n",
      "_________________________________________________________________\n",
      "activation_2 (Activation)    (None, 100)               0         \n",
      "_________________________________________________________________\n",
      "dropout_2 (Dropout)          (None, 100)               0         \n",
      "_________________________________________________________________\n",
      "dense_1 (Dense)              (None, 1)                 101       \n",
      "=================================================================\n",
      "Total params: 71,701\n",
      "Trainable params: 71,701\n",
      "Non-trainable params: 0\n",
      "_________________________________________________________________\n"
     ]
    }
   ],
   "source": [
    "# Create a 2 layer model, and see how it performs.\n",
    "model = model_setup_2_layers()\n",
    "model.summary()"
   ]
  },
  {
   "cell_type": "code",
   "execution_count": 29,
   "metadata": {},
   "outputs": [],
   "source": [
    "# Definition for training the model\n",
    "def train_model(model, epochs, batch_size):\n",
    "    start = time.time()\n",
    "    model.compile(optimizer='adam', loss='binary_crossentropy', metrics=['accuracy'])\n",
    "    print ('Model compilation time : ', time.time() - start)\n",
    "    history = model.fit(X_train, Y_train, epochs=epochs, batch_size=batch_size)\n",
    "    print ('Model fit time : ', time.time() - start)\n",
    "    \n",
    "    return model, history"
   ]
  },
  {
   "cell_type": "code",
   "execution_count": 30,
   "metadata": {},
   "outputs": [
    {
     "name": "stdout",
     "output_type": "stream",
     "text": [
      "Model compilation time :  0.04744124412536621\n",
      "Epoch 1/50\n",
      "7919/7919 [==============================] - 49s 6ms/step - loss: 0.6106 - acc: 0.6895\n",
      "Epoch 2/50\n",
      "7919/7919 [==============================] - 46s 6ms/step - loss: 0.6040 - acc: 0.6906\n",
      "Epoch 3/50\n",
      "7919/7919 [==============================] - 57s 7ms/step - loss: 0.6025 - acc: 0.6911\n",
      "Epoch 4/50\n",
      "7919/7919 [==============================] - 60s 8ms/step - loss: 0.6011 - acc: 0.6883\n",
      "Epoch 5/50\n",
      "7919/7919 [==============================] - 54s 7ms/step - loss: 0.5985 - acc: 0.6907\n",
      "Epoch 6/50\n",
      "7919/7919 [==============================] - 51s 6ms/step - loss: 0.5973 - acc: 0.6912\n",
      "Epoch 7/50\n",
      "7919/7919 [==============================] - 55s 7ms/step - loss: 0.5942 - acc: 0.6957\n",
      "Epoch 8/50\n",
      "7919/7919 [==============================] - 51s 6ms/step - loss: 0.5935 - acc: 0.6939\n",
      "Epoch 9/50\n",
      "7919/7919 [==============================] - 51s 6ms/step - loss: 0.5890 - acc: 0.6964\n",
      "Epoch 10/50\n",
      "7919/7919 [==============================] - 53s 7ms/step - loss: 0.5855 - acc: 0.6997\n",
      "Epoch 11/50\n",
      "7919/7919 [==============================] - 48s 6ms/step - loss: 0.5788 - acc: 0.7054\n",
      "Epoch 12/50\n",
      "7919/7919 [==============================] - 44s 6ms/step - loss: 0.5720 - acc: 0.7084\n",
      "Epoch 13/50\n",
      "7919/7919 [==============================] - 45s 6ms/step - loss: 0.5667 - acc: 0.7068\n",
      "Epoch 14/50\n",
      "7919/7919 [==============================] - 45s 6ms/step - loss: 0.5591 - acc: 0.7150\n",
      "Epoch 15/50\n",
      "7919/7919 [==============================] - 42s 5ms/step - loss: 0.5492 - acc: 0.7176\n",
      "Epoch 16/50\n",
      "7919/7919 [==============================] - 42s 5ms/step - loss: 0.5413 - acc: 0.7250\n",
      "Epoch 17/50\n",
      "7919/7919 [==============================] - 43s 5ms/step - loss: 0.5308 - acc: 0.7341\n",
      "Epoch 18/50\n",
      "7919/7919 [==============================] - 43s 5ms/step - loss: 0.5231 - acc: 0.7390\n",
      "Epoch 19/50\n",
      "7919/7919 [==============================] - 42s 5ms/step - loss: 0.5109 - acc: 0.7454\n",
      "Epoch 20/50\n",
      "7919/7919 [==============================] - 41s 5ms/step - loss: 0.5016 - acc: 0.7548\n",
      "Epoch 21/50\n",
      "7919/7919 [==============================] - 42s 5ms/step - loss: 0.4928 - acc: 0.7583\n",
      "Epoch 22/50\n",
      "7919/7919 [==============================] - 42s 5ms/step - loss: 0.4837 - acc: 0.7626\n",
      "Epoch 23/50\n",
      "7919/7919 [==============================] - 42s 5ms/step - loss: 0.4750 - acc: 0.7689\n",
      "Epoch 24/50\n",
      "7919/7919 [==============================] - 42s 5ms/step - loss: 0.4661 - acc: 0.7824\n",
      "Epoch 25/50\n",
      "7919/7919 [==============================] - 42s 5ms/step - loss: 0.4595 - acc: 0.7764\n",
      "Epoch 26/50\n",
      "7919/7919 [==============================] - 42s 5ms/step - loss: 0.4472 - acc: 0.7875\n",
      "Epoch 27/50\n",
      "7919/7919 [==============================] - 42s 5ms/step - loss: 0.4370 - acc: 0.7967\n",
      "Epoch 28/50\n",
      "7919/7919 [==============================] - 43s 5ms/step - loss: 0.4272 - acc: 0.8004\n",
      "Epoch 29/50\n",
      "7919/7919 [==============================] - 41s 5ms/step - loss: 0.4239 - acc: 0.8052\n",
      "Epoch 30/50\n",
      "7919/7919 [==============================] - 41s 5ms/step - loss: 0.4117 - acc: 0.8060\n",
      "Epoch 31/50\n",
      "7919/7919 [==============================] - 42s 5ms/step - loss: 0.4097 - acc: 0.8081\n",
      "Epoch 32/50\n",
      "7919/7919 [==============================] - 44s 6ms/step - loss: 0.3967 - acc: 0.8170\n",
      "Epoch 33/50\n",
      "7919/7919 [==============================] - 42s 5ms/step - loss: 0.3915 - acc: 0.8216\n",
      "Epoch 34/50\n",
      "7919/7919 [==============================] - 42s 5ms/step - loss: 0.3860 - acc: 0.8233\n",
      "Epoch 35/50\n",
      "7919/7919 [==============================] - 43s 5ms/step - loss: 0.3757 - acc: 0.8293\n",
      "Epoch 36/50\n",
      "7919/7919 [==============================] - 41s 5ms/step - loss: 0.3704 - acc: 0.8314\n",
      "Epoch 37/50\n",
      "7919/7919 [==============================] - 41s 5ms/step - loss: 0.3678 - acc: 0.8314\n",
      "Epoch 38/50\n",
      "7919/7919 [==============================] - 41s 5ms/step - loss: 0.3601 - acc: 0.8361\n",
      "Epoch 39/50\n",
      "7919/7919 [==============================] - 51s 6ms/step - loss: 0.3597 - acc: 0.8406\n",
      "Epoch 40/50\n",
      "7919/7919 [==============================] - 52s 7ms/step - loss: 0.3484 - acc: 0.8423\n",
      "Epoch 41/50\n",
      "7919/7919 [==============================] - 49s 6ms/step - loss: 0.3491 - acc: 0.8406\n",
      "Epoch 42/50\n",
      "7919/7919 [==============================] - 49s 6ms/step - loss: 0.3393 - acc: 0.8461\n",
      "Epoch 43/50\n",
      "7919/7919 [==============================] - 68s 9ms/step - loss: 0.3349 - acc: 0.8502\n",
      "Epoch 44/50\n",
      "7919/7919 [==============================] - 62s 8ms/step - loss: 0.3427 - acc: 0.8467\n",
      "Epoch 45/50\n",
      "7919/7919 [==============================] - 61s 8ms/step - loss: 0.3292 - acc: 0.8521\n",
      "Epoch 46/50\n",
      "7919/7919 [==============================] - 53s 7ms/step - loss: 0.3233 - acc: 0.8545\n",
      "Epoch 47/50\n",
      "7919/7919 [==============================] - 55s 7ms/step - loss: 0.3216 - acc: 0.8558\n",
      "Epoch 48/50\n",
      "7919/7919 [==============================] - 54s 7ms/step - loss: 0.3096 - acc: 0.8569\n",
      "Epoch 49/50\n",
      "7919/7919 [==============================] - 53s 7ms/step - loss: 0.3082 - acc: 0.8639\n",
      "Epoch 50/50\n",
      "7919/7919 [==============================] - 54s 7ms/step - loss: 0.3126 - acc: 0.8589\n",
      "Model fit time :  2379.1825881004333\n"
     ]
    }
   ],
   "source": [
    "# Train the model\n",
    "\n",
    "# The number of times we'll run our entire data set through the model to train it\n",
    "epochs = 50\n",
    "\n",
    "# Batch size is the number of X samples that will run through for each iteration. \n",
    "# Usually we just pick a number between 1 and m to speed up training.\n",
    "batch_size = 32\n",
    "\n",
    "# Train the model (using my custom function)\n",
    "model, history = train_model(model, epochs = epochs, batch_size = batch_size)"
   ]
  },
  {
   "cell_type": "code",
   "execution_count": 31,
   "metadata": {
    "scrolled": false
   },
   "outputs": [
    {
     "data": {
      "image/png": "[encoded data removed]",
      "text/plain": [
       "<matplotlib.figure.Figure at 0x1a2753ff28>"
      ]
     },
     "metadata": {},
     "output_type": "display_data"
    },
    {
     "data": {
      "image/png": "[encoded data removed]",
      "text/plain": [
       "<matplotlib.figure.Figure at 0x1a20e5a1d0>"
      ]
     },
     "metadata": {},
     "output_type": "display_data"
    }
   ],
   "source": [
    "# Plot the loss and accuracy functions\n",
    "fn.plot_loss(history)"
   ]
  },
  {
   "cell_type": "code",
   "execution_count": 32,
   "metadata": {},
   "outputs": [
    {
     "name": "stdout",
     "output_type": "stream",
     "text": [
      "417/417 [==============================] - 1s 1ms/step\n",
      "Baseline average of Y:    69.0%\n",
      "Y_test prediction:        59.0%\n"
     ]
    }
   ],
   "source": [
    "# Evaluate the model with our test set\n",
    "score = model.evaluate(X_test, Y_test, batch_size=128)\n",
    "print(\"Baseline average of Y:    {:3.1f}%\".format(np.average(Y)*100))\n",
    "print(\"Y_test prediction:        {:3.1f}%\".format(score[1]*100))"
   ]
  },
  {
   "cell_type": "markdown",
   "metadata": {},
   "source": [
    "Looks like for the mixture of stocks, this model didn't improve predictions at all!"
   ]
  },
  {
   "cell_type": "markdown",
   "metadata": {},
   "source": [
    "Further investigations:\n",
    "- Review for any other journals on RNN models on stock data\n",
    "- Check other ML models - what did they do? What did they include? What did they not include? And why?\n",
    "- Do we need to add some drop out blocks? Drop out blocks help with regularization. But given that there is so much noise in stock data, is this required?\n",
    "- Do I need to further update the data so that it's not just raw prices, but daily changes, volumes, distance, etc.?\n",
    "\n",
    "This research was inspired by the following papers:\n",
    "- https://pdfs.semanticscholar.org/6ea2/b0f7f9de845790d9add00a0a103f9d3242b5.pdf"
   ]
  },
  {
   "cell_type": "code",
   "execution_count": null,
   "metadata": {},
   "outputs": [],
   "source": []
  }
 ],
 "metadata": {
  "kernelspec": {
   "display_name": "Python 3",
   "language": "python",
   "name": "python3"
  },
  "language_info": {
   "codemirror_mode": {
    "name": "ipython",
    "version": 3
   },
   "file_extension": ".py",
   "mimetype": "text/x-python",
   "name": "python",
   "nbconvert_exporter": "python",
   "pygments_lexer": "ipython3",
   "version": "3.6.4"
  }
 },
 "nbformat": 4,
 "nbformat_minor": 2
}
